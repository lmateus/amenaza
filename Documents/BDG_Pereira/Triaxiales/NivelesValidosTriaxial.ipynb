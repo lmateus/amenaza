{
 "cells": [
  {
   "cell_type": "code",
   "execution_count": 1,
   "metadata": {},
   "outputs": [
    {
     "name": "stderr",
     "output_type": "stream",
     "text": [
      "C:\\Users\\Leonardo Mateus\\Anaconda3\\lib\\site-packages\\ipykernel_launcher.py:65: SettingWithCopyWarning: \n",
      "A value is trying to be set on a copy of a slice from a DataFrame\n",
      "\n",
      "See the caveats in the documentation: http://pandas.pydata.org/pandas-docs/stable/user_guide/indexing.html#returning-a-view-versus-a-copy\n"
     ]
    },
    {
     "name": "stdout",
     "output_type": "stream",
     "text": [
      "Finalizado\n"
     ]
    }
   ],
   "source": [
    "import pandas as pd\n",
    "import matplotlib.pyplot as plt\n",
    "import numpy as np\n",
    "import os\n",
    "\n",
    "def ArchivoNivelesValidos(ensayos_validos, path):\n",
    "    \n",
    "    #Lectura y preparacion de los datos\n",
    "    files = os.listdir(path)\n",
    "    \n",
    "    files_Cyclic_Shear = []\n",
    "    files_Cyclic_Shear_peak = []\n",
    "    #Busco los archivos asociados a Cyclic Shear y Cyclic Shear Peak\n",
    "    for i in files:  \n",
    "        if 'Cyclic Shear.log' in i:\n",
    "            files_Cyclic_Shear.append(i)\n",
    "        if 'Cyclic Shear_peak' in i:\n",
    "            files_Cyclic_Shear_peak.append(i)\n",
    "    #Buscamos el numero de ensayo y creamos una lista con eso\n",
    "    numero_ensayo = []\n",
    "    for i in files_Cyclic_Shear:\n",
    "        numero_ensayo.append(i.split()[0])\n",
    "    #Crea un diccionario el numero de ensayo y el nombre respectivo para saber los ensayos validos\n",
    "    zipCyclicShear = zip(numero_ensayo,files_Cyclic_Shear)\n",
    "    # Create a dictionary from zip object\n",
    "    dictEnsayos = dict(zipCyclicShear)\n",
    "    \n",
    "    #Une los ensayos validos consignados en Cyclic_shear\n",
    "    Cyclic_Shear = pd.DataFrame([])\n",
    "    \n",
    "    for i in ensayos_validos:\n",
    "        unEnsayoValido = dictEnsayos[i]    \n",
    "        ensayo = pd.read_csv(path+unEnsayoValido,sep='\\t',header=1)\n",
    "        ensayo = ensayo.drop(0,axis=0)\n",
    "        Cyclic_Shear = pd.concat([Cyclic_Shear,ensayo], axis=0)\n",
    "        \n",
    "    Cyclic_Shear = Cyclic_Shear.astype(float)\n",
    "    \n",
    "    columns = ['Reading', 'Time','Load','Actuator','Cell Pressure', 'Back Pressure','Pore Pressure','Displacement', \n",
    "               'Change in Volume']\n",
    "\n",
    "    Cyclic_Shear.to_excel(path+\"All_Cyclic_Shear.xlsx\",index=False,columns=columns)  \n",
    "\n",
    "    # Une los ensayos validos consignados en Cyclic_shear_peak\n",
    "    zipCyclicShear_peak = zip(numero_ensayo,files_Cyclic_Shear_peak)\n",
    "    # Create a dictionary from zip object\n",
    "    dictEnsayos_peak = dict(zipCyclicShear_peak)\n",
    "    \n",
    "    #Si falta el ciclo 40 debe incluirse\n",
    "\n",
    "    Cyclic_Shear_peak = pd.DataFrame([])\n",
    "    for i in ensayos_validos:\n",
    "        unEnsayoValido_peak = dictEnsayos_peak[i]    \n",
    "        \n",
    "        ensayo_peak = pd.read_csv(path+unEnsayoValido_peak,sep='\\t',header=0)\n",
    "        #ensayo_peak = ensayo.drop(0,axis=0)\n",
    "        if len(ensayo_peak)==39:\n",
    "            #print(unEnsayoValido_peak)\n",
    "            datos = np.zeros((1, 44))\n",
    "            df40 = pd.DataFrame(datos,columns = ensayo_peak.columns)\n",
    "            df40['CycleNumber']=40\n",
    "            ensayo_peak = pd.concat([ensayo_peak,df40], axis=0)\n",
    "                        \n",
    "        if len(ensayo_peak)==40:\n",
    "            ensayo_peak['CycleNumber'][39]=40\n",
    "\n",
    "        Cyclic_Shear_peak = pd.concat([Cyclic_Shear_peak,ensayo_peak], axis=0)\n",
    "    Cyclic_Shear_peak.astype(float)\n",
    "    \n",
    " \n",
    "    Cyclic_Shear_peak.to_excel(path+\"All_Cyclic_Shear_peak.xlsx\",index=False) \n",
    "\n",
    "    print('Finalizado')\n",
    "    \n",
    "ensayos_validos = ['07','08','09','10','11','12']\n",
    "path = 'P1-M29B/'\n",
    "\n",
    "ArchivoNivelesValidos(ensayos_validos,path)\n",
    "\n",
    "#Creamos un excel vacio que se llame ciclos_suavizados\n",
    "\n",
    "ciclosSuavizados = pd.DataFrame(columns=['tiempo','esfuerzos','deformaciones'])\n",
    "ciclosSuavizados.to_excel(path+\"Ciclos_suavizados.xlsx\",index=False) \n",
    "\n"
   ]
  },
  {
   "cell_type": "code",
   "execution_count": null,
   "metadata": {},
   "outputs": [],
   "source": []
  },
  {
   "cell_type": "code",
   "execution_count": null,
   "metadata": {},
   "outputs": [],
   "source": []
  },
  {
   "cell_type": "code",
   "execution_count": null,
   "metadata": {},
   "outputs": [],
   "source": [
    "\n"
   ]
  },
  {
   "cell_type": "code",
   "execution_count": null,
   "metadata": {},
   "outputs": [],
   "source": []
  },
  {
   "cell_type": "code",
   "execution_count": null,
   "metadata": {},
   "outputs": [],
   "source": []
  }
 ],
 "metadata": {
  "kernelspec": {
   "display_name": "Python 3",
   "language": "python",
   "name": "python3"
  },
  "language_info": {
   "codemirror_mode": {
    "name": "ipython",
    "version": 3
   },
   "file_extension": ".py",
   "mimetype": "text/x-python",
   "name": "python",
   "nbconvert_exporter": "python",
   "pygments_lexer": "ipython3",
   "version": "3.7.4"
  }
 },
 "nbformat": 4,
 "nbformat_minor": 2
}
